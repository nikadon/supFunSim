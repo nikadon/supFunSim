{
 "cells": [
  {
   "cell_type": "code",
   "execution_count": null,
   "metadata": {},
   "outputs": [],
   "source": [
    "!ls"
   ]
  },
  {
   "cell_type": "markdown",
   "metadata": {},
   "source": [
    "# EEGParameters"
   ]
  },
  {
   "cell_type": "code",
   "execution_count": null,
   "metadata": {},
   "outputs": [],
   "source": [
    "parameters = EEGParameters().generate();"
   ]
  },
  {
   "cell_type": "markdown",
   "metadata": {},
   "source": [
    "# EEGSimulation"
   ]
  },
  {
   "cell_type": "code",
   "execution_count": null,
   "metadata": {},
   "outputs": [],
   "source": [
    "%% To store into EEGLAB\n",
    "addpath('/home/cybercraft/toolboxes/eeglab');\n",
    "eeglab;\n",
    "filters = [ \"LCMV\", \"MMSE\", \"ZF\", \"RANDN\", \"ZEROS\", \"EIG-LCMV\", ...\n",
    "            \"sMVP_MSE\", \"sMVP_R\", \"sMVP_N\", \"sMVP_NL_MSE\", ...\n",
    "            \"sMVP_NL_R\", \"sMVP_NL_N\", \"NL\" ];\n",
    "indices = [ \"MAI2011\", \"MAI2013\", \"MPZ2011\", \"MPZ2013\", ...\n",
    "            \"MAI_RR_I\", \"MAI_RR_C\", \"MPZ_RR_I\", \"MPZ_RR_C\" ];"
   ]
  },
  {
   "cell_type": "code",
   "execution_count": null,
   "metadata": {},
   "outputs": [],
   "source": [
    "reconstruction = EEGReconstruction();\n",
    "reconstruction = reconstruction.init();"
   ]
  },
  {
   "cell_type": "code",
   "execution_count": null,
   "metadata": {},
   "outputs": [],
   "source": [
    "for np = 1:1%length(parameters)\n",
    "    parameter = parameters(np);\n",
    "    reconstruction = reconstruction.setparameters(parameter);\n",
    "    reconstruction = reconstruction.setsignals();\n",
    "    reconstruction = reconstruction.setleadfields();\n",
    "    reconstruction = reconstruction.setpreparations();\n",
    "    reconstruction = reconstruction.setfilters(filters);\n",
    "    %reconstruction = reconstruction.deepnetworkfilter();\n",
    "    %reconstruction = reconstruction.setlocalizers(indices);\n",
    "    reconstruction.save();\n",
    "end"
   ]
  },
  {
   "cell_type": "code",
   "execution_count": null,
   "metadata": {},
   "outputs": [],
   "source": [
    "reconstruction = printaverageresults(reconstruction);"
   ]
  },
  {
   "cell_type": "markdown",
   "metadata": {},
   "source": [
    "# EEGPlotting"
   ]
  },
  {
   "cell_type": "code",
   "execution_count": null,
   "metadata": {},
   "outputs": [],
   "source": [
    "eegplot = EEGPlotting(reconstruction)"
   ]
  },
  {
   "cell_type": "code",
   "execution_count": null,
   "metadata": {},
   "outputs": [],
   "source": [
    "%plot inline\n",
    "eegplot.plotMVARmodelcoefficientmatrixmask()"
   ]
  },
  {
   "cell_type": "code",
   "execution_count": null,
   "metadata": {},
   "outputs": [],
   "source": [
    "%plot inline\n",
    "eegplot.plotMVARmodelcoefficientmatrixgraph()"
   ]
  },
  {
   "cell_type": "code",
   "execution_count": null,
   "metadata": {},
   "outputs": [],
   "source": [
    "%plot native\n",
    "eegplot.plotPDCgraph()"
   ]
  },
  {
   "cell_type": "code",
   "execution_count": null,
   "metadata": {},
   "outputs": [],
   "source": [
    "%plot native\n",
    "eegplot.plotDTFgraph()"
   ]
  },
  {
   "cell_type": "code",
   "execution_count": null,
   "metadata": {},
   "outputs": [],
   "source": [
    "%plot inline\n",
    "eegplot.ploterrortable()"
   ]
  },
  {
   "cell_type": "code",
   "execution_count": null,
   "metadata": {},
   "outputs": [],
   "source": [
    "%plot native\n",
    "close all \n",
    "figure('Renderer', 'painters', 'Position', reconstruction.SETUP.DISP )\n",
    "eegplot.plotdeepsourcesasicosahedron642();"
   ]
  },
  {
   "cell_type": "code",
   "execution_count": null,
   "metadata": {},
   "outputs": [],
   "source": [
    "%plot native\n",
    "eegplot.plotdeepsourcesasthalami();"
   ]
  },
  {
   "cell_type": "code",
   "execution_count": null,
   "metadata": {},
   "outputs": [],
   "source": [
    "%plot native\n",
    "eegplot.plotcortexmesh();"
   ]
  },
  {
   "cell_type": "code",
   "execution_count": null,
   "metadata": {},
   "outputs": [],
   "source": [
    "%plot native\n",
    "eegplot.plotbrainoutermesh();"
   ]
  },
  {
   "cell_type": "code",
   "execution_count": null,
   "metadata": {},
   "outputs": [],
   "source": [
    "%plot native\n",
    "eegplot.plotskulloutermesh();"
   ]
  },
  {
   "cell_type": "code",
   "execution_count": null,
   "metadata": {},
   "outputs": [],
   "source": [
    "%plot native\n",
    "eegplot.plotscalpoutermesh();"
   ]
  },
  {
   "cell_type": "code",
   "execution_count": null,
   "metadata": {},
   "outputs": [],
   "source": [
    "%plot native\n",
    "eegplot.plotelectrodepositioning();"
   ]
  },
  {
   "cell_type": "code",
   "execution_count": null,
   "metadata": {},
   "outputs": [],
   "source": [
    "%plot native\n",
    "eegplot.plotelectrodelabels();"
   ]
  },
  {
   "cell_type": "code",
   "execution_count": null,
   "metadata": {},
   "outputs": [],
   "source": [
    "%plot native\n",
    "eegplot.plotROIvisualization();"
   ]
  },
  {
   "cell_type": "code",
   "execution_count": null,
   "metadata": {},
   "outputs": [],
   "source": [
    "%plot native\n",
    "eegplot.plotsourcevisualization();"
   ]
  },
  {
   "cell_type": "markdown",
   "metadata": {},
   "source": [
    "# Connection to EEGLAB"
   ]
  },
  {
   "cell_type": "code",
   "execution_count": null,
   "metadata": {},
   "outputs": [],
   "source": [
    "% Data from supFunSim will be load to `eeglab`\n",
    "eeglab;\n",
    "EEG = reconstruction.MODEL.EEG;\n",
    "EEG = eeg_checkset(EEG);\n",
    "[ALLEEG EEG CURRENTSET] = eeg_store(ALLEEG, EEG, 1);\n",
    "eeglab('redraw');"
   ]
  },
  {
   "cell_type": "markdown",
   "metadata": {},
   "source": [
    "# EEGTest"
   ]
  },
  {
   "cell_type": "code",
   "execution_count": null,
   "metadata": {},
   "outputs": [],
   "source": [
    "eeglab\n",
    "eegtest = EEGTest();"
   ]
  },
  {
   "cell_type": "code",
   "execution_count": null,
   "metadata": {},
   "outputs": [],
   "source": [
    "eegtest = eegtest.testsetup();"
   ]
  },
  {
   "cell_type": "code",
   "execution_count": null,
   "metadata": {},
   "outputs": [],
   "source": [
    "eegtest = eegtest.testsignals();"
   ]
  },
  {
   "cell_type": "code",
   "execution_count": null,
   "metadata": {},
   "outputs": [],
   "source": [
    "eegtest = eegtest.testleadfields();"
   ]
  },
  {
   "cell_type": "code",
   "execution_count": null,
   "metadata": {},
   "outputs": [],
   "source": [
    "eegtest = eegtest.testfilters();"
   ]
  },
  {
   "cell_type": "code",
   "execution_count": null,
   "metadata": {},
   "outputs": [],
   "source": [
    "eegtest = eegtest.testerrors();"
   ]
  }
 ],
 "metadata": {
  "kernelspec": {
   "display_name": "Matlab",
   "language": "matlab",
   "name": "matlab"
  },
  "language_info": {
   "codemirror_mode": "octave",
   "file_extension": ".m",
   "help_links": [
    {
     "text": "MetaKernel Magics",
     "url": "https://github.com/calysto/metakernel/blob/master/metakernel/magics/README.md"
    }
   ],
   "mimetype": "text/x-octave",
   "name": "matlab",
   "version": "0.15.1"
  },
  "latex_envs": {
   "LaTeX_envs_menu_present": true,
   "autoclose": false,
   "autocomplete": true,
   "bibliofile": "biblio.bib",
   "cite_by": "apalike",
   "current_citInitial": 1,
   "eqLabelWithNumbers": true,
   "eqNumInitial": 1,
   "hotkeys": {
    "equation": "Ctrl-E",
    "itemize": "Ctrl-I"
   },
   "labels_anchors": false,
   "latex_user_defs": false,
   "report_style_numbering": false,
   "user_envs_cfg": false
  },
  "toc": {
   "nav_menu": {},
   "number_sections": false,
   "sideBar": true,
   "skip_h1_title": false,
   "title_cell": "Table of Contents",
   "title_sidebar": "Contents",
   "toc_cell": false,
   "toc_position": {},
   "toc_section_display": true,
   "toc_window_display": false
  }
 },
 "nbformat": 4,
 "nbformat_minor": 2
}
